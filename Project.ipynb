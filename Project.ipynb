{
 "cells": [
  {
   "cell_type": "code",
   "execution_count": 20,
   "metadata": {},
   "outputs": [],
   "source": [
    "import sys\n",
    "import pickle\n",
    "import os.path as path\n",
    "import math\n",
    "import numpy as np\n",
    "import scipy.io as sio\n",
    "import matplotlib.pyplot as plt\n",
    "\n",
    "np.set_printoptions(threshold=sys.maxsize)\n",
    "np.warnings.filterwarnings('ignore')"
   ]
  },
  {
   "cell_type": "markdown",
   "metadata": {},
   "source": [
    "Change these to True to save the final weights in a .p file to skip training later."
   ]
  },
  {
   "cell_type": "code",
   "execution_count": 21,
   "metadata": {},
   "outputs": [],
   "source": [
    "SAVE_OVA = False\n",
    "SAVE_OVO = False\n",
    "SAVE_KMEANS = False\n",
    "SAVE_CONFUSION = False\n",
    "\n",
    "OUTPUT_FOLDER = \"output/\"\n",
    "OVA_FILE = OUTPUT_FOLDER + \"ova.p\"\n",
    "OVO_FILE = OUTPUT_FOLDER + \"ovo.p\"\n",
    "KMEANS_FILE = OUTPUT_FOLDER + \"kmeans-k20-p30.p\""
   ]
  },
  {
   "cell_type": "code",
   "execution_count": 22,
   "metadata": {},
   "outputs": [],
   "source": [
    "def load_data(filename):\n",
    "    data = sio.loadmat(filename)\n",
    "    testX = data[\"testX\"]\n",
    "    testY = data[\"testY\"]\n",
    "    trainX = data[\"trainX\"]\n",
    "    trainY = data[\"trainY\"]\n",
    "    print(\"Data loaded. Recieved {} training examples and {} test examples\".format(len(trainX), len(testX)))\n",
    "    return testX, testY, trainX, trainY"
   ]
  },
  {
   "cell_type": "code",
   "execution_count": 23,
   "metadata": {},
   "outputs": [],
   "source": [
    "def normalize_data(testX, trainX):\n",
    "    maxVal = np.amax(trainX)\n",
    "    normalized_testX = testX / maxVal\n",
    "    normalized_trainX = trainX / maxVal\n",
    "    return normalized_testX, normalized_trainX"
   ]
  },
  {
   "cell_type": "code",
   "execution_count": 24,
   "metadata": {},
   "outputs": [],
   "source": [
    "def clean_data(testX, trainX):\n",
    "    rows_to_remove = []\n",
    "    # determine which pixels are mostly blank by iterating rows of trainX and removing all rows with less than min_nonzero nonzero entries\n",
    "    min_nonzero = 600 # threshold for minimum number of images with nonzero values for the pixel\n",
    "    for i, row in enumerate(trainX.T): # examples in trainX are rows not columns, so to iterate over pixel indeces, we transpose trainX since enumerate returns the rows\n",
    "        if(np.count_nonzero(row) < min_nonzero):\n",
    "            rows_to_remove.append(i)\n",
    "    print(\"Removed {} rows for having too few nonzero entries\".format(len(rows_to_remove)))\n",
    "    clean_testX = np.delete(testX, rows_to_remove, 1)\n",
    "    clean_trainX = np.delete(trainX, rows_to_remove, 1)\n",
    "    return clean_testX, clean_trainX, rows_to_remove"
   ]
  },
  {
   "cell_type": "code",
   "execution_count": 25,
   "metadata": {},
   "outputs": [],
   "source": [
    "def add_bias(testX, trainX):\n",
    "    biased_testX = np.concatenate((testX, np.ones((testX.shape[0], 1))), axis=1)\n",
    "    biased_trainX = np.concatenate((trainX, np.ones((trainX.shape[0], 1))), axis=1)\n",
    "    return biased_testX, biased_trainX"
   ]
  },
  {
   "cell_type": "code",
   "execution_count": 26,
   "metadata": {},
   "outputs": [],
   "source": [
    "def evaluate_model(testX, testY, xhat):\n",
    "    ybar = np.dot(testX, xhat).reshape((1, testY.shape[1]))\n",
    "    return ybar"
   ]
  },
  {
   "cell_type": "code",
   "execution_count": 27,
   "metadata": {},
   "outputs": [],
   "source": [
    "def evaluate_confusian(testY, yhat, save=True, filename=\"confusion\"):\n",
    "    print(\"Evaluating Confusion matrix\")\n",
    "    confusion = np.zeros((10, 10))\n",
    "    for i in range(testY.shape[1]):\n",
    "        confusion[testY[0, i],yhat[0, i]] += 1\n",
    "    if(save):\n",
    "        np.savetxt(filename, confusion, fmt=\"%d\", delimiter=\",\")\n",
    "    return confusion"
   ]
  },
  {
   "cell_type": "code",
   "execution_count": 28,
   "metadata": {},
   "outputs": [],
   "source": [
    "def train_one_v_all(trainX, trainY, save=True, filename=\"ova.p\"):\n",
    "    print(\"Running one vs all\")\n",
    "    Xhat = np.zeros((trainX.shape[1], 10))\n",
    "    for digit in range(10):\n",
    "        print(\"Getting weights for digit {}\".format(digit))\n",
    "        labels = (np.where(trainY == digit, 1, -1)).T\n",
    "        xhat = np.linalg.lstsq(trainX, labels)[0]\n",
    "        Xhat[:,digit] = xhat.reshape(xhat.shape[0])\n",
    "    ova = {\"Xhat\": Xhat}\n",
    "    if(save):\n",
    "        pickle.dump(ova, open(filename, \"wb\"))\n",
    "    return ova"
   ]
  },
  {
   "cell_type": "code",
   "execution_count": 29,
   "metadata": {},
   "outputs": [],
   "source": [
    "def test_one_v_all(testX, testY, Xhat):\n",
    "    YBar = np.zeros((10, testY.shape[1]))\n",
    "    for digit in range(10):\n",
    "        ybar = evaluate_model(testX, testY, Xhat[:,digit])\n",
    "        YBar[digit,:] = ybar.reshape(ybar.shape[1])\n",
    "    yhat = np.argmax(YBar, axis=0).reshape((1, YBar.shape[1]))\n",
    "    return yhat"
   ]
  },
  {
   "cell_type": "code",
   "execution_count": 30,
   "metadata": {},
   "outputs": [],
   "source": [
    "def train_one_v_one(trainX, trainY, save=True, filename=\"ovo.p\"):\n",
    "    print(\"Running one vs one\")\n",
    "    Xhat = np.zeros((trainX.shape[1], 45))\n",
    "    Xhat_idx = 0\n",
    "    for i in range(10):\n",
    "        for j in range(i + 1, 10):\n",
    "            print(\"Getting weights for digit pair ({},{})\".format(i, j))\n",
    "            indeces_to_remove = []\n",
    "            for idx, y in np.ndenumerate(trainY):\n",
    "                if(not(y == i or y == j)):\n",
    "                    indeces_to_remove.append(idx)\n",
    "            only_ij_X = np.delete(trainX, indeces_to_remove, axis=0)\n",
    "            only_ij_Y = np.delete(trainY, indeces_to_remove)\n",
    "            labels = (np.where(only_ij_Y == i, 1, -1)).T\n",
    "            xhat = np.linalg.lstsq(only_ij_X, labels)[0]\n",
    "            Xhat[:,Xhat_idx] = xhat.reshape(xhat.shape[0])\n",
    "            Xhat_idx += 1\n",
    "    ovo = {\"Xhat\": Xhat}\n",
    "    if(save):\n",
    "        pickle.dump(ovo, open(filename, \"wb\"))\n",
    "    return ovo"
   ]
  },
  {
   "cell_type": "code",
   "execution_count": 31,
   "metadata": {},
   "outputs": [],
   "source": [
    "def test_one_v_one(testX, testY, Xhat):\n",
    "    YBar = np.zeros((10, testY.shape[1]))\n",
    "    Xhat_idx = 0\n",
    "    for i in range(10):\n",
    "        for j in range(i + 1, 10):\n",
    "            # print(\"Evaluating model for digit pair ({},{})\".format(i, j))\n",
    "            ybar = evaluate_model(testX, testY, Xhat[:,Xhat_idx])\n",
    "            i_row =  np.where(ybar >= 0, YBar[i,:] + 1,  YBar[i])\n",
    "            j_row =  np.where(ybar < 0, YBar[j,:] + 1,  YBar[j])\n",
    "            YBar[i,:] = i_row.reshape(i_row.shape[1])\n",
    "            YBar[j,:] = j_row.reshape(j_row.shape[1])\n",
    "            Xhat_idx += 1\n",
    "    yhat = np.argmax(YBar, axis=0).reshape((1, YBar.shape[1]))\n",
    "    return yhat"
   ]
  },
  {
   "cell_type": "code",
   "execution_count": 32,
   "metadata": {},
   "outputs": [],
   "source": [
    "def train_kmeans(trainX, K, P, save=True, filename=\"kmeans.p\"):\n",
    "    min_J_kmeans = None\n",
    "    max_J_kmeans = None\n",
    "    J_convergence_limit = 0.005\n",
    "    for n_pass in range(P):\n",
    "        C = np.random.randint(K, size=(1, trainX.shape[0]))\n",
    "        # Init Z for the first time from C\n",
    "        Z = np.zeros((K, trainX.shape[1]))\n",
    "        for i in range(K):\n",
    "            Xi = trainX[C[0,:] == i,:]\n",
    "            z = (1 / Xi.shape[0]) * np.sum(Xi, axis=0)\n",
    "            Z[i,:] = z\n",
    "    \n",
    "        Jclust = []\n",
    "        n_iter = 1 \n",
    "        print(\"Starting pass {}\".format(n_pass))\n",
    "        while(1):\n",
    "            print(\"Starting iteration {}\".format(n_iter))\n",
    "            L2 = np.zeros((trainX.shape[0], K))\n",
    "            J = 0\n",
    "            for i in range(K):\n",
    "                Xi = trainX[C[0,:] == i,:]\n",
    "                z = (1 / Xi.shape[0]) * np.sum(Xi, axis=0)\n",
    "                Z[i,:] = z\n",
    "\n",
    "                L2[:,i] = np.square(np.linalg.norm(trainX - Z[i,:], axis=1))\n",
    "                Ji = (1 / trainX.shape[0]) * np.sum(np.square(np.linalg.norm(Xi - Z[i,:], axis=1)))\n",
    "                J += Ji\n",
    "            Jclust.append(J)\n",
    "            if(n_iter > 1):\n",
    "                if(abs(Jclust[-1] - Jclust[-2])/Jclust[-2] < J_convergence_limit):\n",
    "                    print((\"Exiting kmeans loop, convergence reached (J = {})\".format(Jclust)))\n",
    "                    break\n",
    "            C = np.argmin(L2, axis=1).reshape(1, L2.shape[0])\n",
    "            n_iter += 1\n",
    "        kmeans = {\"C\": C, \"Z\": Z, \"Jclust\": Jclust}\n",
    "        if(max_J_kmeans == None or Jclust[-1] > max_J_kmeans[\"Jclust\"][-1]):\n",
    "            print(\"Found new maximum J (or one didn't exist before)\")\n",
    "            max_J_kmeans = kmeans\n",
    "        if(min_J_kmeans == None or Jclust[-1] < min_J_kmeans[\"Jclust\"][-1]):\n",
    "            print(\"Found new minimum J (or one didn't exist before)\")\n",
    "            min_J_kmeans = kmeans\n",
    "    Kmeans = {\"min\": min_J_kmeans, \"max\": max_J_kmeans}\n",
    "    if(save):\n",
    "        pickle.dump(Kmeans, open(filename, \"wb\"))\n",
    "    return Kmeans"
   ]
  },
  {
   "cell_type": "code",
   "execution_count": 33,
   "metadata": {},
   "outputs": [],
   "source": [
    "def plot_kmeans(trainX, kmeans, rows_removed):\n",
    "    colors = [\"r\", \"b\", \"g\", \"m\"]\n",
    "    plt.figure()\n",
    "    for i, kmns in enumerate(kmeans):\n",
    "        Jclust = kmns[\"Jclust\"]\n",
    "        plt.plot(Jclust, \"{}.-\".format(colors[i]))\n",
    "    print(\"min and max cost curves:\")\n",
    "    plt.show()\n",
    "\n",
    "    for _, kmns in enumerate(kmeans):\n",
    "        Z = kmns[\"Z\"]\n",
    "        L = Z.shape[1] + len(rows_removed) - 1 # original length of vector is what remains + whats removed - 1 previously added bias term\n",
    "        # pad z's to make sure vector is 784 long (this alg is junky, but it does the job and speed isn't important at all)\n",
    "        for i in range(Z.shape[0]):\n",
    "            axs = plt.subplot(math.ceil(Z.shape[0]/5), 5, i + 1)\n",
    "            zpad = np.zeros((1, L))\n",
    "            offset = 0\n",
    "            for j in range(L):\n",
    "                if(j in rows_removed):\n",
    "                    zpad[0, j] = 0\n",
    "                    offset += 1\n",
    "                else:\n",
    "                    if(j - offset == Z.shape[1] - 1): \n",
    "                        # If index (j - offset) is the last element of Z (Z.shape[1] = length of teach z including bias term) it is the bias and we want to ignore it\n",
    "                        offset += 1\n",
    "                    zpad[0, j] = Z[i,j - offset]\n",
    "            axs.set_xticks([])\n",
    "            axs.set_yticks([])\n",
    "            axs.imshow(zpad.reshape(28, 28), cmap=\"gray\", vmin=0, vmax=1)\n",
    "        print(\"representatives:\")\n",
    "        plt.show()\n",
    "\n",
    "    for _, kmns in enumerate(kmeans):\n",
    "        Z = kmns[\"Z\"]\n",
    "        C = kmns[\"C\"]\n",
    "        L = Z.shape[1] + len(rows_removed) - 1 # original length of vector is what remains + whats removed - 1 previously added bias term\n",
    "\n",
    "        # pad z's to make sure vector is 784 long (this alg is junky, but it does the job and speed isn't important at all)\n",
    "        for i in range(Z.shape[0]):\n",
    "            nearestPoints = np.zeros((10, Z.shape[1]))\n",
    "            L2 = np.square(np.linalg.norm(trainX - Z[i,:], axis=1))\n",
    "            for x in range(10):\n",
    "                min_x_idx = np.argmin(L2)\n",
    "                min_x = trainX[min_x_idx,:]\n",
    "                nearestPoints[x,:] = min_x\n",
    "                L2[min_x_idx] = np.max(L2)\n",
    "            axs = plt.subplot(11, Z.shape[0], i + 1)\n",
    "            zpad = np.zeros((1, L))\n",
    "            nearestPointsPad = np.zeros((10, L))\n",
    "            offset = 0\n",
    "            for j in range(L):\n",
    "                if(j in rows_removed):\n",
    "                    # Was setting to zero here, but zpad and nearestPointPad are already all 0\n",
    "                    offset += 1\n",
    "                else:\n",
    "                    if(j - offset == Z.shape[1] - 1): \n",
    "                        # If index (j - offset) is the last element of Z (Z.shape[1] = length of teach z including bias term) it is the bias and we want to ignore it\n",
    "                        offset += 1\n",
    "                    zpad[0, j] = Z[i,j - offset]\n",
    "                    for x in range(10):\n",
    "                        nearestPointsPad[x, j] = nearestPoints[x,j - offset]\n",
    "            axs.set_xticks([])\n",
    "            axs.set_yticks([])\n",
    "            axs.imshow(zpad.reshape(28, 28), cmap=\"gray\", vmin=0, vmax=1)\n",
    "            for x in range(10):\n",
    "                axs = plt.subplot(11, Z.shape[0], i + 1 + Z.shape[0] * (x + 1))\n",
    "                axs.set_xticks([])\n",
    "                axs.set_yticks([])\n",
    "                axs.imshow(nearestPointsPad[x,:].reshape(28, 28), cmap=\"gray\", vmin=0, vmax=1)\n",
    "        print(\"10 closest points to each representative:\")\n",
    "        plt.show()"
   ]
  },
  {
   "cell_type": "code",
   "execution_count": 34,
   "metadata": {},
   "outputs": [],
   "source": [
    "def cycle_test_data(testX, testY, yhat, offset=0):\n",
    "    cycle = True\n",
    "    index = offset\n",
    "    plt.figure()\n",
    "    plt.imshow(testX[index,:].reshape(28, 28), cmap=\"gray\", vmin=0, vmax=255)\n",
    "    print(\"Predicted: {}, Actual: {}\".format(yhat[0, index], testY[0, index]))\n",
    "    plt.show(block=False)\n",
    "    while(cycle):\n",
    "        value = input(\"Press 'Enter' to show next digit. Press any other key (then 'Enter') to exit.\")\n",
    "        if(value != \"\"):\n",
    "            cycle = False\n",
    "        else:\n",
    "#             plt.imshow(testX[index,:].reshape(28, 28), cmap=\"gray\", vmin=0, vmax=255)\n",
    "            print(\"Predicted: {}, Actual: {}\".format(yhat[0, index], testY[0, index]))\n",
    "            plt.show(block=False)\n",
    "            index += 1"
   ]
  },
  {
   "cell_type": "code",
   "execution_count": 35,
   "metadata": {},
   "outputs": [],
   "source": [
    "def print_stats(confusion, alg_name):\n",
    "    total_correct = 0\n",
    "    for i in range(10):\n",
    "        total_correct += confusion[i, i]\n",
    "    print(\"Percent Error for {}: {}%\".format(alg_name, (1 - total_correct / np.sum(confusion)) * 100))"
   ]
  },
  {
   "cell_type": "markdown",
   "metadata": {},
   "source": [
    "This just loads and prepares the data. Normalizing (dividing by max) and cleaning (removing pixels which equal 0 in > 99% images) are optional. Feel free to comment those out to see how it affects the output."
   ]
  },
  {
   "cell_type": "code",
   "execution_count": 36,
   "metadata": {},
   "outputs": [
    {
     "name": "stdout",
     "output_type": "stream",
     "text": [
      "Data loaded. Recieved 60000 training examples and 10000 test examples\n",
      "Removed 291 rows for having too few nonzero entries\n"
     ]
    }
   ],
   "source": [
    "testX, testY, trainX, trainY = load_data(\"mnist\")\n",
    "raw_testX, raw_trainX = testX, trainX\n",
    "testX, trainX = normalize_data(testX, trainX)\n",
    "testX, trainX, rows_removed = clean_data(testX, trainX)\n",
    "testX, trainX = add_bias(testX, trainX)"
   ]
  },
  {
   "cell_type": "markdown",
   "metadata": {},
   "source": [
    "This will train, test, and optionally save all three models. Feel free to comment one or more of them if you only wish to see one or two.\n",
    "Note: The kmeans algorithm might take a while with K = 20, P = 30 (find 20 representatives, run process to convergence 30 times). Feel free to lower P if you only want one or a few runs. Also, The kmeans plots will come in pairs of two (besides cost) since we're plotting the results for both the min and the max cost run. The first plot in each set is for the minimum run and the second is for the maximum. Also, the kmeans plotting function is a bit slow because I have to computer the norms of all inputs against all representatives (max 60K * 20 = 1,200,000 norms) so don't worry if plotting it takes several seconds"
   ]
  },
  {
   "cell_type": "code",
   "execution_count": null,
   "metadata": {},
   "outputs": [
    {
     "name": "stdout",
     "output_type": "stream",
     "text": [
      "Evaluating Confusion matrix\n",
      "Percent Error for One Vs All: 13.929999999999998%\n",
      "Evaluating Confusion matrix\n",
      "Percent Error for One Vs One: 7.130000000000003%\n",
      "min and max cost curves:\n"
     ]
    },
    {
     "data": {
      "image/png": "[encoded data removed]",
      "text/plain": [
       "<Figure size 432x288 with 1 Axes>"
      ]
     },
     "metadata": {
      "needs_background": "light"
     },
     "output_type": "display_data"
    }
   ],
   "source": [
    "ova = train_one_v_all(trainX, trainY, SAVE_OVA, OVA_FILE) if not(path.exists(OVA_FILE)) else pickle.load(open(OVA_FILE, \"rb\"))\n",
    "Xhat_ova = ova[\"Xhat\"]\n",
    "yhat_ova = test_one_v_all(testX, testY, Xhat_ova)\n",
    "confusion_OVA = evaluate_confusian(testY, yhat_ova, save=SAVE_CONFUSION, filename=OUTPUT_FOLDER + \"confusion_ova.csv\")\n",
    "print_stats(confusion_OVA, \"One Vs All\")\n",
    "\n",
    "ovo = train_one_v_one(trainX, trainY, SAVE_OVO, OVO_FILE) if not(path.exists(OVO_FILE)) else pickle.load(open(OVO_FILE, \"rb\"))\n",
    "Xhat_ovo = ovo[\"Xhat\"]\n",
    "yhat_ovo = test_one_v_one(testX, testY, Xhat_ovo)\n",
    "confusion_OVO = evaluate_confusian(testY, yhat_ovo, save=SAVE_CONFUSION, filename=OUTPUT_FOLDER + \"confusion_ovo.csv\")\n",
    "print_stats(confusion_OVO, \"One Vs One\")\n",
    "\n",
    "# cycle_test_data(raw_testX, testY, yhat_ovo, offset=0)\n",
    "K = 20\n",
    "P = 30\n",
    "Kmeans = train_kmeans(trainX, 20, 30, SAVE_KMEANS, KMEANS_FILE) if not(path.exists(KMEANS_FILE)) else pickle.load(open(KMEANS_FILE, \"rb\"))\n",
    "min_kmeans = Kmeans[\"min\"]\n",
    "max_kmeans = Kmeans[\"max\"]\n",
    "plot_kmeans(trainX, [min_kmeans, max_kmeans], rows_removed)\n",
    "\n",
    "print(\"Exiting program successfully\")"
   ]
  }
 ],
 "metadata": {
  "kernelspec": {
   "display_name": "Python 3",
   "language": "python",
   "name": "python3"
  },
  "language_info": {
   "codemirror_mode": {
    "name": "ipython",
    "version": 3
   },
   "file_extension": ".py",
   "mimetype": "text/x-python",
   "name": "python",
   "nbconvert_exporter": "python",
   "pygments_lexer": "ipython3",
   "version": "3.8.6"
  }
 },
 "nbformat": 4,
 "nbformat_minor": 4
}
